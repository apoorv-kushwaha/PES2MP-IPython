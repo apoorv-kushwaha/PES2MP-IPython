{
 "cells": [
  {
   "cell_type": "markdown",
   "id": "11183bfd",
   "metadata": {},
   "source": [
    "Contact : dhilip@iitrpr.ac.in <br>\n",
    "\n",
    "    - Apoorv Kushwaha & Dr. T.J. Dhilip Kumar\n",
    "        Quantum Dynamics Lab (410), IIT Ropar."
   ]
  },
  {
   "cell_type": "markdown",
   "id": "7fc97f14",
   "metadata": {},
   "source": [
    "### 2D SF multipole expansion code for a rigid rotor-atom collision PES:\n",
    "*Uses Legendre functions from scipy library of python*"
   ]
  },
  {
   "cell_type": "code",
   "execution_count": 151,
   "id": "46a1938f",
   "metadata": {},
   "outputs": [],
   "source": [
    "import math\n",
    "import numpy as np\n",
    "import pandas as pd\n",
    "from scipy.special import legendre\n",
    "import matplotlib.pyplot as plt"
   ]
  },
  {
   "cell_type": "code",
   "execution_count": 164,
   "id": "d78f36e9",
   "metadata": {},
   "outputs": [],
   "source": [
    "df_inp = pd.read_csv('nccn_he_NN.dat',header=None,sep='\\s+')  # import file\n",
    "\n",
    "lm = 10  # lambda max "
   ]
  },
  {
   "cell_type": "code",
   "execution_count": 179,
   "id": "f8920115",
   "metadata": {},
   "outputs": [],
   "source": [
    "df_inp.sort_values(by = [ 0,1], inplace=True, ascending = True)    # sort by R, theta\n",
    "df_inp[2] = (df_inp[2]+188.31099452)*219474.63                     # convert to cm-1\n",
    "df_inp.reset_index(inplace=True, drop = True)"
   ]
  },
  {
   "cell_type": "code",
   "execution_count": 180,
   "id": "ff9d89f5",
   "metadata": {},
   "outputs": [],
   "source": [
    "nc=80\n",
    "ngm = 91\n",
    "px = np.zeros((ngm,lm))          # stores legendre polynomial\n",
    "f = np.zeros(ngm)           # Ab initio energy \n",
    "R = np.zeros(nc)            # distance R\n",
    "E = np.zeros(nc)            # multipole expanded potentials\n",
    "df_out = pd.DataFrame()      # dataframe stores V lambda"
   ]
  },
  {
   "cell_type": "code",
   "execution_count": 181,
   "id": "d9991b69",
   "metadata": {},
   "outputs": [],
   "source": [
    "V_nf= np.zeros((nc,lm)) \n",
    "V_n= np.zeros(lm)"
   ]
  },
  {
   "cell_type": "code",
   "execution_count": 182,
   "id": "abd2108b",
   "metadata": {},
   "outputs": [],
   "source": [
    "for j2 in range (ngm):      # angle\n",
    "    for j3 in range (lm):      # legendre\n",
    "        pxc = legendre(j3*2)      # *2 for symmetric molecule (data upto 90 degree); *1 otherwise\n",
    "        ang = math.radians(j2)\n",
    "        px[j2,j3]= pxc(math.cos(ang))        "
   ]
  },
  {
   "cell_type": "code",
   "execution_count": 207,
   "id": "eaf2d75b",
   "metadata": {},
   "outputs": [],
   "source": [
    "A_inv = np.linalg.pinv(px)"
   ]
  },
  {
   "cell_type": "code",
   "execution_count": 184,
   "id": "d4376f74",
   "metadata": {},
   "outputs": [
    {
     "data": {
      "text/html": [
       "<div>\n",
       "<style scoped>\n",
       "    .dataframe tbody tr th:only-of-type {\n",
       "        vertical-align: middle;\n",
       "    }\n",
       "\n",
       "    .dataframe tbody tr th {\n",
       "        vertical-align: top;\n",
       "    }\n",
       "\n",
       "    .dataframe thead th {\n",
       "        text-align: right;\n",
       "    }\n",
       "</style>\n",
       "<table border=\"1\" class=\"dataframe\">\n",
       "  <thead>\n",
       "    <tr style=\"text-align: right;\">\n",
       "      <th></th>\n",
       "      <th>0</th>\n",
       "      <th>2</th>\n",
       "      <th>4</th>\n",
       "      <th>6</th>\n",
       "      <th>8</th>\n",
       "      <th>10</th>\n",
       "      <th>12</th>\n",
       "      <th>14</th>\n",
       "      <th>16</th>\n",
       "      <th>18</th>\n",
       "    </tr>\n",
       "  </thead>\n",
       "  <tbody>\n",
       "    <tr>\n",
       "      <th>8</th>\n",
       "      <td>115.539543</td>\n",
       "      <td>342.524242</td>\n",
       "      <td>-80.938275</td>\n",
       "      <td>-106.033024</td>\n",
       "      <td>55.663254</td>\n",
       "      <td>28.630983</td>\n",
       "      <td>-29.155228</td>\n",
       "      <td>-3.611405</td>\n",
       "      <td>12.545462</td>\n",
       "      <td>-3.968235</td>\n",
       "    </tr>\n",
       "    <tr>\n",
       "      <th>9</th>\n",
       "      <td>99.968662</td>\n",
       "      <td>340.178775</td>\n",
       "      <td>-34.845508</td>\n",
       "      <td>-127.012496</td>\n",
       "      <td>31.356385</td>\n",
       "      <td>46.607467</td>\n",
       "      <td>-19.747456</td>\n",
       "      <td>-17.139471</td>\n",
       "      <td>10.911133</td>\n",
       "      <td>2.221939</td>\n",
       "    </tr>\n",
       "    <tr>\n",
       "      <th>10</th>\n",
       "      <td>86.251427</td>\n",
       "      <td>330.597515</td>\n",
       "      <td>10.682912</td>\n",
       "      <td>-131.881227</td>\n",
       "      <td>0.829947</td>\n",
       "      <td>52.739092</td>\n",
       "      <td>-2.669887</td>\n",
       "      <td>-23.508545</td>\n",
       "      <td>2.541887</td>\n",
       "      <td>7.635786</td>\n",
       "    </tr>\n",
       "    <tr>\n",
       "      <th>11</th>\n",
       "      <td>73.645232</td>\n",
       "      <td>314.583982</td>\n",
       "      <td>53.191476</td>\n",
       "      <td>-121.363063</td>\n",
       "      <td>-28.616832</td>\n",
       "      <td>45.749514</td>\n",
       "      <td>14.508104</td>\n",
       "      <td>-19.869027</td>\n",
       "      <td>-6.457244</td>\n",
       "      <td>7.879561</td>\n",
       "    </tr>\n",
       "    <tr>\n",
       "      <th>12</th>\n",
       "      <td>61.598400</td>\n",
       "      <td>292.508024</td>\n",
       "      <td>90.205681</td>\n",
       "      <td>-97.543559</td>\n",
       "      <td>-50.461861</td>\n",
       "      <td>28.459762</td>\n",
       "      <td>24.728554</td>\n",
       "      <td>-9.139178</td>\n",
       "      <td>-10.345103</td>\n",
       "      <td>3.144817</td>\n",
       "    </tr>\n",
       "    <tr>\n",
       "      <th>...</th>\n",
       "      <td>...</td>\n",
       "      <td>...</td>\n",
       "      <td>...</td>\n",
       "      <td>...</td>\n",
       "      <td>...</td>\n",
       "      <td>...</td>\n",
       "      <td>...</td>\n",
       "      <td>...</td>\n",
       "      <td>...</td>\n",
       "      <td>...</td>\n",
       "    </tr>\n",
       "    <tr>\n",
       "      <th>75</th>\n",
       "      <td>-0.104415</td>\n",
       "      <td>-0.094254</td>\n",
       "      <td>0.047882</td>\n",
       "      <td>0.027246</td>\n",
       "      <td>-0.052571</td>\n",
       "      <td>0.006553</td>\n",
       "      <td>-0.008869</td>\n",
       "      <td>0.000408</td>\n",
       "      <td>-0.009008</td>\n",
       "      <td>-0.002300</td>\n",
       "    </tr>\n",
       "    <tr>\n",
       "      <th>76</th>\n",
       "      <td>-0.095716</td>\n",
       "      <td>-0.087697</td>\n",
       "      <td>0.047793</td>\n",
       "      <td>0.025707</td>\n",
       "      <td>-0.051645</td>\n",
       "      <td>0.007774</td>\n",
       "      <td>-0.008873</td>\n",
       "      <td>0.000734</td>\n",
       "      <td>-0.008755</td>\n",
       "      <td>-0.001870</td>\n",
       "    </tr>\n",
       "    <tr>\n",
       "      <th>77</th>\n",
       "      <td>-0.087646</td>\n",
       "      <td>-0.081795</td>\n",
       "      <td>0.047584</td>\n",
       "      <td>0.024216</td>\n",
       "      <td>-0.050710</td>\n",
       "      <td>0.008925</td>\n",
       "      <td>-0.008910</td>\n",
       "      <td>0.001048</td>\n",
       "      <td>-0.008522</td>\n",
       "      <td>-0.001471</td>\n",
       "    </tr>\n",
       "    <tr>\n",
       "      <th>78</th>\n",
       "      <td>-0.080143</td>\n",
       "      <td>-0.076492</td>\n",
       "      <td>0.047270</td>\n",
       "      <td>0.022775</td>\n",
       "      <td>-0.049768</td>\n",
       "      <td>0.010007</td>\n",
       "      <td>-0.008974</td>\n",
       "      <td>0.001350</td>\n",
       "      <td>-0.008307</td>\n",
       "      <td>-0.001102</td>\n",
       "    </tr>\n",
       "    <tr>\n",
       "      <th>79</th>\n",
       "      <td>-0.073146</td>\n",
       "      <td>-0.071739</td>\n",
       "      <td>0.046866</td>\n",
       "      <td>0.021384</td>\n",
       "      <td>-0.048817</td>\n",
       "      <td>0.011023</td>\n",
       "      <td>-0.009065</td>\n",
       "      <td>0.001643</td>\n",
       "      <td>-0.008108</td>\n",
       "      <td>-0.000759</td>\n",
       "    </tr>\n",
       "  </tbody>\n",
       "</table>\n",
       "<p>72 rows × 10 columns</p>\n",
       "</div>"
      ],
      "text/plain": [
       "            0           2          4           6          8          10  \\\n",
       "8   115.539543  342.524242 -80.938275 -106.033024  55.663254  28.630983   \n",
       "9    99.968662  340.178775 -34.845508 -127.012496  31.356385  46.607467   \n",
       "10   86.251427  330.597515  10.682912 -131.881227   0.829947  52.739092   \n",
       "11   73.645232  314.583982  53.191476 -121.363063 -28.616832  45.749514   \n",
       "12   61.598400  292.508024  90.205681  -97.543559 -50.461861  28.459762   \n",
       "..         ...         ...        ...         ...        ...        ...   \n",
       "75   -0.104415   -0.094254   0.047882    0.027246  -0.052571   0.006553   \n",
       "76   -0.095716   -0.087697   0.047793    0.025707  -0.051645   0.007774   \n",
       "77   -0.087646   -0.081795   0.047584    0.024216  -0.050710   0.008925   \n",
       "78   -0.080143   -0.076492   0.047270    0.022775  -0.049768   0.010007   \n",
       "79   -0.073146   -0.071739   0.046866    0.021384  -0.048817   0.011023   \n",
       "\n",
       "           12         14         16        18  \n",
       "8  -29.155228  -3.611405  12.545462 -3.968235  \n",
       "9  -19.747456 -17.139471  10.911133  2.221939  \n",
       "10  -2.669887 -23.508545   2.541887  7.635786  \n",
       "11  14.508104 -19.869027  -6.457244  7.879561  \n",
       "12  24.728554  -9.139178 -10.345103  3.144817  \n",
       "..        ...        ...        ...       ...  \n",
       "75  -0.008869   0.000408  -0.009008 -0.002300  \n",
       "76  -0.008873   0.000734  -0.008755 -0.001870  \n",
       "77  -0.008910   0.001048  -0.008522 -0.001471  \n",
       "78  -0.008974   0.001350  -0.008307 -0.001102  \n",
       "79  -0.009065   0.001643  -0.008108 -0.000759  \n",
       "\n",
       "[72 rows x 10 columns]"
      ]
     },
     "execution_count": 184,
     "metadata": {},
     "output_type": "execute_result"
    }
   ],
   "source": [
    "for i in range (nc):           # loop over all R   \n",
    "    ct = i*ngm\n",
    "    f = df_inp[2][ct:ct+ngm]   # sorted by R, theta (extracting V for one R at a time)\n",
    "    V_n1 = A_inv.dot(f)\n",
    "    V_nf[i,:] = V_n1\n",
    "a12 = np.arange(lm)\n",
    "df_Vnf = pd.DataFrame(V_nf, columns = a12*2)\n",
    "df_Vnf[8:]"
   ]
  },
  {
   "cell_type": "code",
   "execution_count": 185,
   "id": "33903c83",
   "metadata": {},
   "outputs": [
    {
     "data": {
      "text/plain": [
       "-14.741555103189992"
      ]
     },
     "execution_count": 185,
     "metadata": {},
     "output_type": "execute_result"
    }
   ],
   "source": [
    "min(df_Vnf[0])"
   ]
  },
  {
   "cell_type": "code",
   "execution_count": 186,
   "id": "4a3b7cb3",
   "metadata": {},
   "outputs": [],
   "source": [
    "#df_Vnf = df_Vnf[8:][:]"
   ]
  },
  {
   "cell_type": "code",
   "execution_count": null,
   "id": "301d19e0",
   "metadata": {},
   "outputs": [],
   "source": []
  },
  {
   "cell_type": "code",
   "execution_count": 190,
   "id": "578172b6",
   "metadata": {},
   "outputs": [
    {
     "data": {
      "text/plain": [
       "80"
      ]
     },
     "execution_count": 190,
     "metadata": {},
     "output_type": "execute_result"
    }
   ],
   "source": [
    "x_dummy = np.arange(2.5,10.5,0.1)\n",
    "len(x_dummy)"
   ]
  },
  {
   "cell_type": "code",
   "execution_count": 205,
   "id": "6c31e6c7",
   "metadata": {},
   "outputs": [
    {
     "data": {
      "image/png": "[encoded data removed]",
      "text/plain": [
       "<Figure size 432x288 with 1 Axes>"
      ]
     },
     "metadata": {
      "needs_background": "light"
     },
     "output_type": "display_data"
    }
   ],
   "source": [
    "#Spline100\n",
    "for i in range(0,lm):\n",
    "    y_dummy = df_Vnf[i*2]\n",
    "    # Plot the noisy exponential data\n",
    "    plt.scatter(x_dummy, y_dummy,s=20, color='#00b3b3', label='Data')\n",
    "    plt.title(\"V_lambda = %d\" %(i*2))\n",
    "    plt.ylim(-15, 5)\n",
    "    plt.xlim(3.3, 10)\n",
    "    plt.show()"
   ]
  },
  {
   "cell_type": "code",
   "execution_count": 192,
   "id": "09d97372",
   "metadata": {},
   "outputs": [],
   "source": [
    "# saving 2 datasets 1 from 2.5 and other from 3.3\n",
    "# add data points to check for wobbes/kinks\n",
    "x_22=np.arange(2,2.5,0.1)\n",
    "x_3=np.append(x_22,x_dummy)\n",
    "x_2=np.array([12.5,12.6,12.7,13,15,20,50])\n",
    "x_3=np.append(x_3,x_2)"
   ]
  },
  {
   "cell_type": "code",
   "execution_count": 201,
   "id": "218a04d5",
   "metadata": {},
   "outputs": [],
   "source": [
    "from scipy.optimize import curve_fit\n",
    "a,b,c,d,e,f,rmsx = np.zeros(20),np.zeros(20),np.zeros(20),np.zeros(20),np.zeros(20),np.zeros(20),np.zeros(20)\n",
    "def exp_fit(x, a,b,c):\n",
    "    return  a*np.exp(-1*x)+b*np.exp(-2*x)+c*np.exp(-3*x)#+ \\\n",
    "            #d*np.exp(-4*x)#+e*np.exp(-5*x)+f*np.exp(-6*x)"
   ]
  },
  {
   "cell_type": "code",
   "execution_count": 214,
   "id": "b404f7d2",
   "metadata": {
    "scrolled": false
   },
   "outputs": [
    {
     "name": "stdout",
     "output_type": "stream",
     "text": [
      "[a b c] coefficients:  [-1.41323744e+03 -2.22414157e+05  2.20871268e+07]\n"
     ]
    },
    {
     "data": {
      "image/png": "[encoded data removed]",
      "text/plain": [
       "<Figure size 432x288 with 1 Axes>"
      ]
     },
     "metadata": {
      "needs_background": "light"
     },
     "output_type": "display_data"
    },
    {
     "name": "stdout",
     "output_type": "stream",
     "text": [
      "Double exponential RMSE =  0.1051876230731427\n"
     ]
    }
   ],
   "source": [
    "\n",
    "for i in range(0,lm):\n",
    "    j=int(i)\n",
    "    y_dummy = df_Vnf[j*2]\n",
    "    parsx, covx = curve_fit(f=exp_fit, xdata=x_dummy[21:], ydata=y_dummy[21:], p0=[0,0,1000])\n",
    "    a[j],b[j],c[j] = parsx\n",
    "    print(\"[a b c] coefficients: \", parsx)\n",
    "    # Plot the fit data as an overlay on the scatter data\n",
    "    plt.scatter(x_dummy, y_dummy,s=20, color='#00b3b3',label = 'no fit')\n",
    "    plt.plot(x_3, exp_fit(x_3, *parsx), linestyle='-.', linewidth=2, color='black', label = 'exp fit')\n",
    "    plt.legend(loc=\"upper right\")\n",
    "    plt.ylabel(\"Energy (cm^(-1))\")\n",
    "    plt.xlabel(\"R (Ang)\")\n",
    "    plt.axhline(y=0, color='grey', linestyle=':')\n",
    "    plt.title(\"V_lambda = %d\" %(i))\n",
    "    plt.ylim(-15, 10)\n",
    "    plt.xlim(2.5, 8)\n",
    "    plt.show()\n",
    "    print('Double exponential RMSE = ',np.sqrt(np.average(np.power((exp_fit(x_dummy[21:], *parsx) \n",
    "                                                                    - y_dummy[21:]),2))))\n",
    "    rmsx[j]=np.sqrt(np.average(np.power((exp_fit(x_dummy[21:], *parsx) - y_dummy[21:]),2)))"
   ]
  },
  {
   "cell_type": "code",
   "execution_count": 203,
   "id": "ef687640",
   "metadata": {},
   "outputs": [
    {
     "name": "stdout",
     "output_type": "stream",
     "text": [
      "LAMBDA =  0,2,4,6,8,10,12,14,16,18,\n",
      "NTERM  =  3,3,3,3,3,3,3,3,3,3,\n",
      "NPOWER =  0,0,0,0,0,0,0,0,0,0,0,0,0,0,0,0,0,0,0,0,0,0,0,0,0,0,0,0,0,0,\n",
      "A      = \n",
      "-1413.237443463985 , -222414.15738139366 , 22087126.801772237 ,\n",
      "-772.9602042436222 , -746417.466001136 , 87916558.94835067 ,\n",
      "292.54070783699405 , -567230.5614788638 , 78494622.54605423 ,\n",
      "346.1778867221785 , -274471.587915636 , 42894645.869891606 ,\n",
      "53.66582516314621 , -78302.9747205213 , 17307126.364579003 ,\n",
      "39.285672447787704 , -81230.970617757 , 12506176.826437986 ,\n",
      "74.62982853735666 , -74719.73121364153 , 11588398.231028805 ,\n",
      "68.38901257848761 , -70836.96537961216 , 10446338.721376535 ,\n",
      "55.07445438122233 , -57284.14783962402 , 9466338.087172123 ,\n",
      "78.5279501753533 , -88799.68584386319 , 13827663.341585573 ,\n",
      "E      = -1,-2,-3,-1,-2,-3,-1,-2,-3,-1,-2,-3,-1,-2,-3,-1,-2,-3,-1,-2,-3,-1,-2,-3,-1,-2,-3,-1,-2,-3,\n"
     ]
    }
   ],
   "source": [
    "#spline100 data\n",
    "# save output for each V lambdas as required by molscat!\n",
    "print('LAMBDA =  0,2,4,6,8,10,12,14,16,18,')\n",
    "print('NTERM  = ', '3,'*10)\n",
    "print('NPOWER = ', '0,'*30)\n",
    "print('A      = ')\n",
    "for j in range (10):\n",
    "    print(a[j],',',b[j],',',c[j],',')\n",
    "print('E      =', '-1,-2,-3,'*10)"
   ]
  },
  {
   "cell_type": "code",
   "execution_count": null,
   "id": "82ac4c35",
   "metadata": {},
   "outputs": [],
   "source": []
  },
  {
   "cell_type": "code",
   "execution_count": null,
   "id": "69806fca",
   "metadata": {},
   "outputs": [],
   "source": []
  }
 ],
 "metadata": {
  "kernelspec": {
   "display_name": "Python 3",
   "language": "python",
   "name": "python3"
  },
  "language_info": {
   "codemirror_mode": {
    "name": "ipython",
    "version": 3
   },
   "file_extension": ".py",
   "mimetype": "text/x-python",
   "name": "python",
   "nbconvert_exporter": "python",
   "pygments_lexer": "ipython3",
   "version": "3.8.5"
  }
 },
 "nbformat": 4,
 "nbformat_minor": 5
}
