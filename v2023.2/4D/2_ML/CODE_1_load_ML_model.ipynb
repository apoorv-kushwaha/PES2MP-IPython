{
 "cells": [
  {
   "cell_type": "markdown",
   "id": "bb0e7d82",
   "metadata": {},
   "source": [
    "<hr style=\"border:3px solid black\"></hr>\n",
    "\n",
    "# Template for PESLearn to load ML model and create dense PES\n",
    "\n",
    "    - Read  :  https://github.com/CCQC/PES-Learn\n",
    "    - Paper :  https://doi.org/10.1021/acs.jctc.9b00312\n",
    "\n",
    "<hr style=\"border:3px solid black\"></hr>"
   ]
  },
  {
   "cell_type": "markdown",
   "id": "c15bb962",
   "metadata": {},
   "source": [
    "<hr style=\"border:2px solid black\"></hr>\n",
    "\n",
    "### Import libraries and prepare input data\n",
    "\n",
    "    - Example Input  : Make Required changes in the cell as needed. [green]\n",
    "    - Example Output : Describes the output of the cell. [indigo]\n",
    "\n",
    "<hr style=\"border:2px solid black\"></hr>"
   ]
  },
  {
   "cell_type": "code",
   "execution_count": 1,
   "id": "86c710dc",
   "metadata": {},
   "outputs": [],
   "source": [
    "import warnings      # sometimes there are just too many warnings (with conda install)\n",
    "warnings.filterwarnings(\"ignore\")\n",
    "import numpy as np\n",
    "import math\n",
    "import pandas as pd\n",
    "import matplotlib.pyplot as plt\n",
    "import os\n",
    "from tqdm import tqdm\n",
    "import peslearn        # import PESLearn"
   ]
  },
  {
   "cell_type": "markdown",
   "id": "8d7bd745",
   "metadata": {},
   "source": [
    "<hr style=\"border:2px solid black\"></hr>\n",
    "\n",
    "### Select path \n",
    "<span style=\"color:green\"><u> Example Input _[via code]_ </u></span>\n",
    "   \n",
    "    model_path = out_peslearn + 'model1_data/'  \n",
    "    # change model1_data to model2_data,... etc to load different ML models.\n",
    "    # Leave default if only 1 model is created using CODE 0.\n",
    "\n",
    "<hr style=\"border:2px solid black\"></hr>"
   ]
  },
  {
   "cell_type": "code",
   "execution_count": 2,
   "id": "8db18f89",
   "metadata": {},
   "outputs": [],
   "source": [
    "# select appropriate path and model name (path uses UNIX separator)\n",
    "input_dir = os.getcwd()+'/'\n",
    "out_plots = input_dir + 'plots/'\n",
    "out_data = input_dir + 'data/'\n",
    "out_peslearn = input_dir + 'peslearn_out/'\n",
    "\n",
    "model_path = out_peslearn + 'model1_data/'\n",
    "os.chdir(model_path)\n",
    "\n",
    "from compute_energy import pes"
   ]
  },
  {
   "cell_type": "markdown",
   "id": "02a3bb64",
   "metadata": {},
   "source": [
    "<hr style=\"border:2px solid black\"></hr>\n",
    "\n",
    "### Load ML model and test for precision error\n",
    "#### Use following if you encounter a error regarding precision in the next cell (If there is no error, ignore!) :\n",
    "***\n",
    "<span style=\"color:indigo\"><u> Example Output</u></span>\n",
    "   \n",
    "      ERROR: \"RuntimeError: expected scalar type Double but found Float\" ()\n",
    "      \n",
    "      This bug is only encountered in NN model (in my Mac/Linux Machines) \n",
    "      To solve it: \n",
    "      \n",
    "    (a) open        \"compute_energy.py\" (file)   -->        \"pes\" (function/subroutine)\n",
    "    (b) replace     \"E = model(x)\"               with       \"E = model(x.double())\"\n",
    "        or add line \"x = x.double()\"             after      \"x = torch.Tensor(data=newX)\"\n",
    "        \n",
    "<span style=\"color:green\">For GP no error is expected!  </span>\n",
    "<hr style=\"border:2px solid black\"></hr>"
   ]
  },
  {
   "cell_type": "code",
   "execution_count": 3,
   "id": "7f3a196d",
   "metadata": {},
   "outputs": [
    {
     "data": {
      "text/plain": [
       "array([[-186.58325347]])"
      ]
     },
     "execution_count": 3,
     "metadata": {},
     "output_type": "execute_result"
    }
   ],
   "source": [
    "# testing for precision error:\n",
    "cart = np.array([3.5,0,0,0])\n",
    "Er_test = pes(cart, cartesian=False)  # cartition is false for r/theta r\n",
    "Er_test"
   ]
  },
  {
   "cell_type": "markdown",
   "id": "0a252b8e",
   "metadata": {},
   "source": [
    "<hr style=\"border:2px solid black\"></hr>\n",
    "\n",
    "### Plot trial curve\n",
    "***\n",
    "<span style=\"color:green\"><u> Example Input _[via code]_ </u></span>\n",
    "   \n",
    "      phi_pes    =  0          # Angular coordinate 1 (Phi)\n",
    "      theta2_pes = 90          # Angular coordinate 2 (Theta 2)\n",
    "      theta1_pes = 90          # Angular coordinate 3 (Theta 1)\n",
    "      r_n = 100                # number of radial (R) points with 0.1 Angstrom interval\n",
    "      R_ini = 2.5              # initial R value (adjust for plot)\n",
    "      E_inf = -186.5889239     # Asymptotic potential\n",
    "***\n",
    "<span style=\"color:indigo\"><u> Example Output</u></span>\n",
    "\n",
    "    Plots the Potential curve based on above mentioned coordinates. \n",
    "    Value of potential minimum (in cm-1)\n",
    "<hr style=\"border:2px solid black\"></hr>"
   ]
  },
  {
   "cell_type": "code",
   "execution_count": 4,
   "id": "9ec77e92",
   "metadata": {},
   "outputs": [
    {
     "data": {
      "image/png": "[encoded data removed]",
      "text/plain": [
       "<Figure size 432x288 with 1 Axes>"
      ]
     },
     "metadata": {
      "needs_background": "light"
     },
     "output_type": "display_data"
    }
   ],
   "source": [
    "# angular coordinates at which curve needs to be tested\n",
    "phi_pes = 0\n",
    "theta2_pes = 90\n",
    "theta1_pes = 90\n",
    "\n",
    "r_n = 100 # number of points with 0.1 Ang. interval\n",
    "R_ini = 2.5 # initial R value (adjust for plot)\n",
    "E_inf = -186.5889239\n",
    "\n",
    "b =np.zeros(4) # array with dimentions of input coordinates\n",
    "e1 = np.zeros(r_n)\n",
    "r =  np.zeros(r_n)\n",
    "\n",
    "for i in range (r_n):\n",
    "    r_pes = ((i/10.0)+R_ini)   \n",
    "    b =np.array([r_pes,phi_pes,theta2_pes,theta1_pes])\n",
    "    E = pes(b, cartesian=False)  # cartition is false for r/theta r\n",
    "    e1[i] = E[0,0]\n",
    "    r[i] = r_pes\n",
    "\n",
    "print(\"Energy minimum at tested curve\")\n",
    "print(min(e2))\n",
    "\n",
    "# plotting the bayesian/nn learned curve for testing\n",
    "e2 = (e1-E_inf)*219474.63   # converting to cm-1\n",
    "x = np.arange(len(e2))/10.0+R_ini\n",
    "fig, ax = plt.subplots()\n",
    "plt.plot(x,e2)\n",
    "plt.grid(True,linestyle=':')\n",
    "plt.minorticks_on()\n",
    "plt.ylabel(r'Energy $(\\mathrm{cm}^{-1})$')   \n",
    "plt.xlabel(r'R $\\mathrm{(\\AA)}$')\n",
    "plt.title(r'Test plot at $\\phi={}\\degree$, $\\theta_2={}\\degree$, $\\theta_1={}\\degree$'\n",
    "          .format(int(phi_pes),int(theta2_pes),int(theta1_pes)))\n",
    "plt.savefig(out_plots + 'ML_PES_curve_test_{}_{}_{}.eps'.format(int(phi_pes),int(theta2_pes),int(theta1_pes)), \n",
    "            format='eps')"
   ]
  },
  {
   "cell_type": "markdown",
   "id": "77636651",
   "metadata": {},
   "source": [
    "<hr style=\"border:2px solid black\"></hr>\n",
    "\n",
    "###  Dense 4D coordinates\n",
    "***\n",
    "#### <u> Two Choices for Dense Coordinates</u>:\n",
    "    \n",
    "    1) First Time: Run the next tab to generate new coefficients \n",
    "    2) Later runs: Skip the next tab to load previously generated coordinates.\n",
    "<hr style=\"border:1px solid black\"></hr>\n",
    "\n",
    "#### 1) Use below cell below to create a dense 4D coordinates file\n",
    "***\n",
    "    \n",
    "<span style=\"color:green\"><u> Example Input _[via code]_ </u></span>\n",
    "   \n",
    "    r1 = np.arange(2.5,20.1,0.1)                 # Step size to create new radial coordinate    (R)\n",
    "    for i_phi in tqdm(range (0,91,15)):          # Step size to create new angular coordinate 1 (Phi)\n",
    "        for j_theta2 in range (0,91,15):         # Step size to create new angular coordinate 1 (Theta2)\n",
    "            for k_theta1 in range (0,181,15):    # Step size to create new angular coordinate 1 (Theta1)\n",
    "***\n",
    "<span style=\"color:indigo\"><u> Example Output</u></span>\n",
    "    \n",
    "    Radial  coordinates go from 2.5 to 20.0  Angstroms with step size of 0.1 Angstrom.\n",
    "    Angular coordinates go from 0 to 90/180  Degrees   with step size of 15 degrees.\n",
    "    Coordinates are automatically saved to /data/geom_dense.csv\n",
    "    \n",
    "    Live: tqdm shows the remaining time!\n",
    "<hr style=\"border:1px solid black\"></hr>\n",
    "\n",
    "#### 2) Skip to next cell to load previously created 4D coordinates\n",
    "<span style=\"color:green\"><u> Example Input _[via code]_ </u></span>\n",
    "     \n",
    "     File name : geom_dense.csv    # dense coordinate file name\n",
    "     Delimiter : ,                 # data separator\n",
    "***    \n",
    "If both cell are run, the code will:\n",
    "    1) first create and save the new coordinates (in geom_dense.csv), and\n",
    "    2) load the same file (geom_dense.csv) in the next cell without causing any error. \n",
    " However, if you have already created dense coordinates before, \n",
    "    it saves time to simply load the previous one!\n",
    "<hr style=\"border:2px solid black\"></hr>"
   ]
  },
  {
   "cell_type": "code",
   "execution_count": 6,
   "id": "c76fa315",
   "metadata": {},
   "outputs": [
    {
     "name": "stderr",
     "output_type": "stream",
     "text": [
      "100%|██████████| 7/7 [00:00<00:00, 10.26it/s]\n"
     ]
    }
   ],
   "source": [
    "# template for creating 4D collision coordinates (step size halved to 15 degrees)\n",
    "\n",
    "A = np.ndarray(shape=(1,4)) # garbage array initialization\n",
    "r1 = np.arange(2.5,20.1,0.1) \n",
    "r_n = len(r1) # saving number of R data points\n",
    "r4 = np.atleast_2d(r1).T   # creating r column vector\n",
    "for i_phi in tqdm(range (0,91,15)):\n",
    "    for j_theta2 in range (0,91,15):\n",
    "        for k_theta1 in range (0,181,15):\n",
    "            b = np.array([i_phi,j_theta2,k_theta1])\n",
    "            c = np.tile(b,(r_n,1))  # creating angles as columns\n",
    "            d = np.c_[ r4, c ]        # joining r and columns\n",
    "            A = np.vstack([A, d]) # repeating for different geoms and joining\n",
    "A = np.delete(A, 0, 0) # deleting first row (empty)\n",
    "print(\"Number of data points in the created file : \",len(A))\n",
    "# save coordinates\n",
    "np.savetxt(out_data + \"geom_dense.csv\", A, delimiter=\",\",fmt='%.1f,%d,%d,%d')"
   ]
  },
  {
   "cell_type": "code",
   "execution_count": 7,
   "id": "de13500a",
   "metadata": {},
   "outputs": [
    {
     "data": {
      "text/plain": [
       "112112"
      ]
     },
     "execution_count": 7,
     "metadata": {},
     "output_type": "execute_result"
    }
   ],
   "source": [
    "# load coordinates directly from previously saved files\n",
    "\n",
    "A = np.loadtxt(out_data + \"geom_dense.csv\", delimiter=\",\")\n",
    "print(\"Number of data points in the loaded file : \",len(A))"
   ]
  },
  {
   "cell_type": "markdown",
   "id": "a061c096",
   "metadata": {},
   "source": [
    "<hr style=\"border:2px solid black\"></hr>\n",
    "\n",
    "### Save the predicted PES (for above coordinates) in \"data/E_PESLearn_dense.dat\"\n",
    "<hr style=\"border:2px solid black\"></hr>"
   ]
  },
  {
   "cell_type": "code",
   "execution_count": 8,
   "id": "35b57c6b",
   "metadata": {},
   "outputs": [],
   "source": [
    "predicted_energies = pes(A, cartesian=False)\n",
    "final_data = np.c_[ A, predicted_energies ]\n",
    "np.savetxt(out_data + \"E_PESLearn_dense.dat\", final_data, delimiter=\",\",fmt='%.2f,%d,%d,%d,%.16f')"
   ]
  },
  {
   "cell_type": "code",
   "execution_count": null,
   "id": "ab142a32",
   "metadata": {},
   "outputs": [],
   "source": []
  }
 ],
 "metadata": {
  "kernelspec": {
   "display_name": "Python 3 (ipykernel)",
   "language": "python",
   "name": "python3"
  },
  "language_info": {
   "codemirror_mode": {
    "name": "ipython",
    "version": 3
   },
   "file_extension": ".py",
   "mimetype": "text/x-python",
   "name": "python",
   "nbconvert_exporter": "python",
   "pygments_lexer": "ipython3",
   "version": "3.11.5"
  }
 },
 "nbformat": 4,
 "nbformat_minor": 5
}
