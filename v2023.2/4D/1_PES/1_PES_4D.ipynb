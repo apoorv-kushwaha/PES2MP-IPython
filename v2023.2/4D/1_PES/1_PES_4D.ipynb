{
 "cells": [
  {
   "cell_type": "markdown",
   "id": "a7449d52-6499-41b9-8293-4994cf414290",
   "metadata": {},
   "source": [
    "<hr style=\"border:3px solid black\"></hr>\n",
    "Contact : dhilip@iitrpr.ac.in <br>\n",
    "\n",
    "    - Apoorv Kushwaha & Dr. T.J. Dhilip Kumar\n",
    "        Quantum Dynamics Lab (410), IIT Ropar.\n",
    "***\n",
    "# Psi4 template for calculating rigid rotor-atom collision PES:\n",
    "\n",
    "Link :  https://psicode.org/\n",
    "\n",
    "<hr style=\"border:3px solid black\"></hr>\n"
   ]
  },
  {
   "cell_type": "markdown",
   "id": "7acba9cb-c990-4084-ba8b-2bced3b59a66",
   "metadata": {},
   "source": [
    "<hr style=\"border:2px solid black\"></hr>\n",
    "\n",
    "### *Import libraries ---> Create required folders  ---> Generate input files*\n",
    "\n",
    "    - Example Input  : Make Required changes in the cell as needed. [green]\n",
    "    - Example Output : Describes the output of the cell. [indigo]\n",
    "\n",
    "<hr style=\"border:2px solid black\"></hr>"
   ]
  },
  {
   "cell_type": "code",
   "execution_count": 1,
   "id": "faf02ac2-7918-4816-b9f9-f8b04cf95d05",
   "metadata": {},
   "outputs": [],
   "source": [
    "# Import required libraries\n",
    "import math\n",
    "import numpy as np\n",
    "import pandas as pd\n",
    "import os\n",
    "from scipy.special import legendre\n",
    "import matplotlib.pyplot as plt\n",
    "import psi4\n",
    "from tqdm.notebook import tqdm"
   ]
  },
  {
   "cell_type": "code",
   "execution_count": 2,
   "id": "a5066af7-31ee-4500-8703-72552b21716a",
   "metadata": {},
   "outputs": [],
   "source": [
    "# creating required folders\n",
    "input_dir = os.getcwd()+'/'\n",
    "\n",
    "out_plots = input_dir + 'plots/'      # directory for plots\n",
    "if not os.path.exists(out_plots):\n",
    "    os.makedirs(out_plots)\n",
    "out_data = input_dir + 'data/'   # directory for psi4 data\n",
    "if not os.path.exists(out_data):\n",
    "    os.makedirs(out_data)\n",
    "\n",
    "psi4_data = input_dir + 'psi4_data/'   # directory for psi4 data\n",
    "if not os.path.exists(psi4_data):\n",
    "    os.makedirs(psi4_data)\n",
    "pes_data = psi4_data + 'C2H2/'         # directory for PES\n",
    "if not os.path.exists(pes_data):\n",
    "    os.makedirs(pes_data)\n",
    "    \n",
    "scratch_dir = psi4_data + 'C2H2_scratch/'      # scratch directory for \n",
    "psi4_io = psi4.core.IOManager.shared_object()\n",
    "psi4_io.set_default_path(scratch_dir)\n",
    "if not os.path.exists(scratch_dir):\n",
    "    os.makedirs(scratch_dir)"
   ]
  },
  {
   "cell_type": "markdown",
   "id": "58b29223-83a1-45e5-a314-94793a0f5dc9",
   "metadata": {},
   "source": [
    "<hr style=\"border:2px solid black\"></hr>\n",
    "\n",
    "### Creating matrix containing R, theta coordinates\n",
    "***\n",
    "    \n",
    "<span style=\"color:green\"><u> Example Input _[via code]_ </u></span>\n",
    "   \n",
    "    r1 = np.arange(2.0,20.1,0.1)                 # Step size to create radial coordinate    (R)\n",
    "    for i_gamma in tqdm(range (0,91,15)):        # Step size to create angular coordinate  (Phi)\n",
    "***\n",
    "<span style=\"color:indigo\"><u> Example Output</u></span>\n",
    "    \n",
    "    Radial  coordinates go from 2.0 to 20.0  Angstroms with step size of 0.1 Angstrom.\n",
    "    Angular coordinates go from   0 to 90    Degrees   with step size of 15  degrees.\n",
    "    Coordinates are saved to data/r_gam.dat file.\n",
    "    \n",
    "    Live: tqdm shows the remaining time!\n",
    "<hr style=\"border:2px solid black\"></hr>"
   ]
  },
  {
   "cell_type": "code",
   "execution_count": 3,
   "id": "6288f623-2306-45f4-9beb-d79ffe2133db",
   "metadata": {},
   "outputs": [
    {
     "data": {
      "application/vnd.jupyter.widget-view+json": {
       "model_id": "dba4e19949b4462ebe0ccfea5b1792f5",
       "version_major": 2,
       "version_minor": 0
      },
      "text/plain": [
       "  0%|          | 0/4 [00:00<?, ?it/s]"
      ]
     },
     "metadata": {},
     "output_type": "display_data"
    },
    {
     "name": "stdout",
     "output_type": "stream",
     "text": [
      "Number of data points in the saved file :  9744\n"
     ]
    }
   ],
   "source": [
    "A = np.ndarray(shape=(1,4)) # garbage array initialization\n",
    "R1 = np.arange(2,9.0,0.1) \n",
    "R2 = np.arange(9.0,14.0,0.5)\n",
    "R3 = np.arange(14,21.0,1.0)\n",
    "R = np.concatenate((R1,R2,R3),axis=None)\n",
    "r_n = len(R) # saving number of R data points\n",
    "r4 = np.atleast_2d(R).T   # creating r column vector\n",
    "for i_phi in tqdm(range (0,91,30)):\n",
    "    for j_theta2 in range (0,91,30):\n",
    "        for k_theta1 in range (0,181,30):\n",
    "            b = np.array([i_phi,j_theta2,k_theta1])\n",
    "            c = np.tile(b,(r_n,1))  # creating angles as columns\n",
    "            d = np.c_[ r4, c ]        # joining r and columns\n",
    "            A = np.vstack([A, d]) # repeating for different geoms and joining\n",
    "A = np.delete(A, 0, 0) # deleting first row (empty)\n",
    "np.savetxt(out_data + \"4D_coordinates.dat\", A, fmt='%.1f\\t%d\\t%d\\t%d')\n",
    "print(\"Number of data points in the saved file : \",len(A))"
   ]
  },
  {
   "cell_type": "markdown",
   "id": "d01c86fa-8b3d-42d8-9c63-3a4adbe5e123",
   "metadata": {},
   "source": [
    "<hr style=\"border:2px solid black\"></hr>\n",
    "\n",
    "### Creating matrix containing R, theta coordinates\n",
    "***\n",
    "    \n",
    "<span style=\"color:green\"><u> Example Input _[via code]_ </u></span>\n",
    "    \n",
    "    rcc : half length of C-C molecule (center of mass position)\n",
    "    psi4.set_memory('500 MB') : Set memory required\n",
    "    set_num_threads(4)        : Set number of threats\n",
    "\n",
    "    Input gemoetry and calculation options can be obtained by following link:\n",
    "https://psicode.org/psi4manual/1.4.0/psithoninput <br>\n",
    "https://psicode.org/psi4manual/1.4.0/nbody\n",
    "\n",
    "***\n",
    "<span style=\"color:indigo\"><u> Example Output</u></span>\n",
    "    \n",
    "    Energies are calculated and stored in ecp variable\n",
    "    The output file for each calculation are saved in /psi4_data/C2He/{R}_{gamma}.out\n",
    "    \n",
    "    Live: tqdm shows the remaining time!\n",
    "<hr style=\"border:2px solid black\"></hr>"
   ]
  },
  {
   "cell_type": "code",
   "execution_count": null,
   "id": "5537f5e1-b4d5-4a28-92b9-e74d22415644",
   "metadata": {},
   "outputs": [
    {
     "name": "stdout",
     "output_type": "stream",
     "text": [
      "\n",
      "  Memory set to   1.863 GiB by Python driver.\n",
      "  Threads set to 2 by Python driver.\n"
     ]
    },
    {
     "data": {
      "application/vnd.jupyter.widget-view+json": {
       "model_id": "0bd86d6c48d948069d9bb9b7932527fb",
       "version_major": 2,
       "version_minor": 0
      },
      "text/plain": [
       "  0%|          | 0/9744 [00:00<?, ?it/s]"
      ]
     },
     "metadata": {},
     "output_type": "display_data"
    }
   ],
   "source": [
    "r1 = 0.6215    # half of C-C distance\n",
    "r3 = 0.3707    # half H-H distance               \n",
    "ecp = {}\n",
    "c2h2_geom = \"\"\"\n",
    "0 1\n",
    "C          {:.6f}        {:.6f}        {:.6f} \n",
    "C          {:.6f}        {:.6f}        {:.6f} \n",
    "--\n",
    "0 1\n",
    "H         0.000000          {:.6f}        {:.6f}\n",
    "H         0.000000          {:.6f}        {:.6f}\n",
    "\"\"\"\n",
    "\n",
    "psi4.set_memory('2 GB')\n",
    "psi4.set_num_threads(2) \n",
    "\n",
    "for j in tqdm(range (len(A))):      # python loop fruns from last position to first position\n",
    "    try:\n",
    "        R = A[j,0]\n",
    "        phi = A[j,1]\n",
    "        theta2 = A[j,2]\n",
    "        theta1 = A[j,3]\n",
    "        \n",
    "        # 3D projection for C2\n",
    "        a1=math.sin(math.radians(theta1))*math.sin(math.radians(phi))\n",
    "        a2=math.sin(math.radians(theta1))*math.cos(math.radians(phi))\n",
    "        a3=math.cos(math.radians(theta1))\n",
    "        \n",
    "        # 2D projection for H2\n",
    "        b1=math.sin(math.radians(theta2))\n",
    "        b2=math.cos(math.radians(theta2))\n",
    "        psi4.set_output_file(pes_data+'{:.2f}_{:d}_{:d}_{:d}.out'.format(R,int(phi),int(theta2),int(theta1)),\n",
    "                             False) # sets output file location\n",
    "        \n",
    "        c2h2 = psi4.geometry(c2h2_geom.format(r1*a1,  r1*a2,  r1*a3,\n",
    "                                              r1*a1, -r1*a2, -r1*a3,\n",
    "                                              r3*b1,R+r3*b2,\n",
    "                                              -r3*b1,R-r3*b2))\n",
    "        with  open(pes_data+'{:.2f}_{:d}_{:d}_{:d}.inp'.format(R, int(phi),int(theta2),int(theta1)),'w') as myfile:\n",
    "            myfile.write(c2h2_geom.format(r1*a1,  r1*a2,  r1*a3,\n",
    "                                          r1*a1, -r1*a2, -r1*a3,\n",
    "                                          r3*b1,R+r3*b2,\n",
    "                                          -r3*b1,R-r3*b2))\n",
    "        \n",
    "        psi4.set_options({'reference': 'rhf','freeze_core': True})\n",
    "        ecp[j] = psi4.energy('ccsd(t)/aug-cc-pvdz', bsse_type='cp', return_total_data=True, molecule=c2h2)\n",
    "    except:\n",
    "        pass"
   ]
  },
  {
   "cell_type": "code",
   "execution_count": 5,
   "id": "27e2107b-f1c6-49b6-aa83-96c37ed26ab1",
   "metadata": {},
   "outputs": [
    {
     "data": {
      "text/plain": [
       "{3: -64.76668006877065,\n",
       " 4: -70.85223011144294,\n",
       " 5: -72.52995999080368,\n",
       " 6: -72.02906384055912,\n",
       " 7: -68.71399414504013,\n",
       " 10: -58.95786724252007,\n",
       " 11: -70.16845191456598,\n",
       " 12: -73.57567553639309,\n",
       " 13: -75.12520990483473,\n",
       " 14: -75.92400566908616,\n",
       " 15: -76.35564755749526,\n",
       " 16: -76.59454850315562,\n",
       " 17: -76.72933016853358,\n",
       " 18: -76.80623713460946,\n",
       " 19: -76.84967112935401}"
      ]
     },
     "execution_count": 5,
     "metadata": {},
     "output_type": "execute_result"
    }
   ],
   "source": [
    "ecp"
   ]
  },
  {
   "cell_type": "code",
   "execution_count": 23,
   "id": "0f5ac1d9-8f17-4068-9a35-363b4d2cbdaf",
   "metadata": {},
   "outputs": [
    {
     "data": {
      "text/plain": [
       "-78.62306058276586"
      ]
     },
     "execution_count": 23,
     "metadata": {},
     "output_type": "execute_result"
    }
   ],
   "source": [
    "R = 200\n",
    "gamma = 90\n",
    "r1=math.sin(math.radians(gamma))*R\n",
    "r2=math.cos(math.radians(gamma))*R\n",
    "c2he = psi4.geometry(c2he_geom.format(-rcc,rcc,r1,r2))\n",
    "\n",
    "psi4.set_options({'reference': 'rhf','freeze_core': True})\n",
    "ecp_inf = psi4.energy('ccsd(t)/aug-cc-pvdz', bsse_type='cp', return_total_data=True, molecule=c2he)\n",
    "ecp_inf"
   ]
  },
  {
   "cell_type": "code",
   "execution_count": null,
   "id": "5bde637e-6253-4272-b3fb-c156ba8020c0",
   "metadata": {},
   "outputs": [],
   "source": []
  },
  {
   "cell_type": "code",
   "execution_count": 24,
   "id": "c1ea6252-ca9b-4197-8dff-a7fbabf4ba18",
   "metadata": {},
   "outputs": [
    {
     "data": {
      "text/plain": [
       "array([-78.56108373, -78.57610346, -78.58826363, -78.59734457,\n",
       "       -78.60413008, -78.60927398, -78.61317231, -78.61608935,\n",
       "       -78.61823368, -78.61978108, -78.62087817, -78.62164322,\n",
       "       -78.62216827, -78.62252286, -78.62275816, -78.62291116,\n",
       "       -78.62300813, -78.62306746, -78.62310192, -78.62312015,\n",
       "       -78.62312811, -78.62312975, -78.62312759, -78.62312342,\n",
       "       -78.62311825, -78.62311276, -78.62310735, -78.62310225,\n",
       "       -78.62309756, -78.62309333, -78.62308955, -78.6230862 ,\n",
       "       -78.62308325, -78.62308066, -78.62307839, -78.62307639,\n",
       "       -78.62307465, -78.62307313, -78.62307179, -78.62307062,\n",
       "       -78.62306958, -78.62306869, -78.62306788, -78.62306717,\n",
       "       -78.62306653, -78.62306596, -78.62306546, -78.62306501,\n",
       "       -78.6230646 , -78.62306424, -78.62306392, -78.62306363,\n",
       "       -78.62306337, -78.62306313, -78.62306292, -78.62306273,\n",
       "       -78.62306256, -78.6230624 , -78.62306226, -78.62306213,\n",
       "       -78.62306201, -78.6230619 , -78.6230618 , -78.62306171,\n",
       "       -78.62306164, -78.62306156, -78.62306149, -78.62306143,\n",
       "       -78.62306138, -78.62306133, -78.62306128, -78.62306107,\n",
       "       -78.62306095, -78.62306086, -78.62306079, -78.62306073,\n",
       "       -78.6230607 , -78.62306067, -78.62306065, -78.62306064,\n",
       "       -78.62306063, -78.62306061, -78.62306061, -78.62306061,\n",
       "       -78.6230606 , -78.6230606 , -78.62306059, -78.5658111 ,\n",
       "       -78.58171195, -78.59811632, -78.61868752, -78.60971378,\n",
       "       -78.61122425, -78.61416029, -78.61667015, -78.61859705,\n",
       "       -78.62001331, -78.62102671, -78.62173719, -78.62222655,\n",
       "       -78.62255792, -78.62277828, -78.62292185, -78.62301298,\n",
       "       -78.62306885, -78.62310133, -78.62311856, -78.62312606,\n",
       "       -78.62312755, -78.62312549, -78.62312147, -78.6231165 ,\n",
       "       -78.62311121, -78.62310602, -78.6231011 , -78.62309656,\n",
       "       -78.62309246, -78.6230888 , -78.62308556, -78.62308271,\n",
       "       -78.6230802 , -78.623078  , -78.62307607, -78.62307437,\n",
       "       -78.62307289, -78.62307158, -78.62307043, -78.62306942,\n",
       "       -78.62306854, -78.62306775, -78.62306705, -78.62306643,\n",
       "       -78.62306588, -78.62306538, -78.62306494, -78.62306455,\n",
       "       -78.62306419, -78.62306388, -78.62306359, -78.62306334,\n",
       "       -78.62306311, -78.6230629 , -78.62306271, -78.62306254,\n",
       "       -78.62306239, -78.62306225, -78.62306212, -78.623062  ,\n",
       "       -78.62306189, -78.6230618 , -78.62306171, -78.62306163,\n",
       "       -78.62306157, -78.6230615 , -78.62306144, -78.62306139,\n",
       "       -78.62306133, -78.62306129, -78.62306108, -78.62306095,\n",
       "       -78.62306085, -78.62306079, -78.62306074, -78.6230607 ,\n",
       "       -78.62306067, -78.62306065, -78.62306064, -78.62306063,\n",
       "       -78.62306061, -78.62306061, -78.62306061, -78.62306061,\n",
       "       -78.62306061, -78.6230606 , -78.57839639, -78.59791395,\n",
       "       -78.62145674, -78.60866755, -78.61024711, -78.61310596,\n",
       "       -78.61572572, -78.61782319, -78.61940977, -78.62057052,\n",
       "       -78.62139989, -78.62198136, -78.62238218, -78.62265391,\n",
       "       -78.62283491, -78.62295302, -78.62302811, -78.62307416,\n",
       "       -78.62310087, -78.62311495, -78.62312097, -78.62312194,\n",
       "       -78.62311992, -78.62311624, -78.62311175, -78.623107  ,\n",
       "       -78.62310231, -78.62309788, -78.62309379, -78.62309008,\n",
       "       -78.62308676, -78.6230838 , -78.6230812 , -78.6230789 ,\n",
       "       -78.62307687, -78.6230751 , -78.62307353, -78.62307215,\n",
       "       -78.62307093, -78.62306986, -78.62306892, -78.62306808,\n",
       "       -78.62306736, -78.6230667 , -78.62306612, -78.6230656 ,\n",
       "       -78.62306513, -78.62306472, -78.62306435, -78.62306402,\n",
       "       -78.62306372, -78.62306345, -78.62306321, -78.62306299,\n",
       "       -78.6230628 , -78.62306262, -78.62306246, -78.62306231,\n",
       "       -78.62306217, -78.62306205, -78.62306194, -78.62306184,\n",
       "       -78.62306175, -78.62306167, -78.6230616 , -78.62306153,\n",
       "       -78.62306147, -78.62306141, -78.62306134, -78.6230613 ,\n",
       "       -78.62306125, -78.62306106, -78.62306093, -78.62306085,\n",
       "       -78.62306078, -78.62306073, -78.62306069, -78.62306067,\n",
       "       -78.62306065, -78.62306064, -78.62306062, -78.62306062,\n",
       "       -78.62306062, -78.62306061, -78.62306061, -78.62306061,\n",
       "       -78.6230606 , -78.60506176, -78.64015831, -78.60421651,\n",
       "       -78.60848185, -78.61218305, -78.61514801, -78.61742055,\n",
       "       -78.61911215, -78.6203442 , -78.62122584, -78.62184716,\n",
       "       -78.62227896, -78.62257492, -78.62277485, -78.62290767,\n",
       "       -78.62299416, -78.62304898, -78.62308239, -78.62310154,\n",
       "       -78.62311136, -78.62311518, -78.62311527, -78.62311312,\n",
       "       -78.62310975, -78.62310579, -78.62310166, -78.62309761,\n",
       "       -78.62309378, -78.62309024, -78.62308702, -78.62308412,\n",
       "       -78.62308152, -78.62307923, -78.6230772 , -78.6230754 ,\n",
       "       -78.62307382, -78.6230724 , -78.62307116, -78.62307007,\n",
       "       -78.6230691 , -78.62306826, -78.6230675 , -78.62306683,\n",
       "       -78.62306623, -78.6230657 , -78.62306523, -78.62306481,\n",
       "       -78.62306443, -78.62306409, -78.62306378, -78.62306351,\n",
       "       -78.62306326, -78.62306304, -78.62306284, -78.62306266,\n",
       "       -78.62306249, -78.62306233, -78.6230622 , -78.62306207,\n",
       "       -78.62306197, -78.62306187, -78.62306177, -78.6230617 ,\n",
       "       -78.62306162, -78.62306154, -78.62306148, -78.62306141,\n",
       "       -78.62306135, -78.6230613 , -78.62306125, -78.62306121,\n",
       "       -78.62306103, -78.62306092, -78.62306082, -78.62306076,\n",
       "       -78.62306072, -78.62306069, -78.62306068, -78.62306065,\n",
       "       -78.62306064, -78.62306063, -78.62306062, -78.62306062,\n",
       "       -78.62306061, -78.62306061, -78.62306061, -78.6230606 ,\n",
       "       -78.59424904, -78.60138017, -78.60705208, -78.6114213 ,\n",
       "       -78.6147138 , -78.61715182, -78.61893081, -78.62021225,\n",
       "       -78.62112451, -78.62176684, -78.62221433, -78.62252275,\n",
       "       -78.62273288, -78.62287416, -78.62296765, -78.62302825,\n",
       "       -78.62306639, -78.62308936, -78.62310222, -78.62310843,\n",
       "       -78.62311037, -78.62310964, -78.62310733, -78.62310416,\n",
       "       -78.6231006 , -78.62309696, -78.62309342, -78.62309007,\n",
       "       -78.62308699, -78.62308418, -78.62308165, -78.62307939,\n",
       "       -78.62307738, -78.62307558, -78.62307398, -78.62307257,\n",
       "       -78.62307133, -78.62307023, -78.62306925, -78.62306838,\n",
       "       -78.62306761, -78.62306693, -78.62306632, -78.62306578,\n",
       "       -78.6230653 , -78.62306487, -78.62306448, -78.62306414,\n",
       "       -78.62306383, -78.62306356, -78.62306331, -78.62306307,\n",
       "       -78.62306287, -78.62306267, -78.6230625 , -78.62306235,\n",
       "       -78.62306221, -78.62306209, -78.62306198, -78.62306188,\n",
       "       -78.62306178, -78.62306169, -78.62306161, -78.62306154,\n",
       "       -78.62306147, -78.62306141, -78.62306136, -78.6230613 ,\n",
       "       -78.62306126, -78.62306121, -78.62306116, -78.623061  ,\n",
       "       -78.62306089, -78.62306081, -78.62306076, -78.62306072,\n",
       "       -78.62306069, -78.62306067, -78.62306066, -78.62306065,\n",
       "       -78.62306064, -78.62306063, -78.62306062, -78.62306061,\n",
       "       -78.62306061, -78.62306061, -78.6230606 , -78.59796988,\n",
       "       -78.6048592 , -78.60998356, -78.61375044, -78.6164926 ,\n",
       "       -78.61847115, -78.61988672, -78.62089116, -78.62159803,\n",
       "       -78.62209135, -78.62243273, -78.62266679, -78.62282563,\n",
       "       -78.62293212, -78.62300237, -78.62304772, -78.62307608,\n",
       "       -78.62309295, -78.62310213, -78.62310624, -78.62310708,\n",
       "       -78.62310588, -78.62310348, -78.62310045, -78.62309715,\n",
       "       -78.62309381, -78.62309059, -78.62308756, -78.62308476,\n",
       "       -78.62308222, -78.62307992, -78.62307788, -78.62307605,\n",
       "       -78.62307442, -78.62307297, -78.62307168, -78.62307055,\n",
       "       -78.62306954, -78.62306866, -78.62306785, -78.62306715,\n",
       "       -78.62306652, -78.62306596, -78.62306546, -78.62306501,\n",
       "       -78.62306461, -78.62306425, -78.62306393, -78.62306364,\n",
       "       -78.62306338, -78.62306313, -78.62306293, -78.62306275,\n",
       "       -78.62306257, -78.6230624 , -78.62306228, -78.62306214,\n",
       "       -78.62306202, -78.62306192, -78.62306181, -78.62306172,\n",
       "       -78.62306164, -78.62306156, -78.62306148, -78.62306142,\n",
       "       -78.62306136, -78.62306131, -78.62306126, -78.62306122,\n",
       "       -78.62306118, -78.62306114, -78.62306099, -78.62306089,\n",
       "       -78.62306081, -78.62306076, -78.62306072, -78.6230607 ,\n",
       "       -78.62306068, -78.62306066, -78.62306065, -78.62306064,\n",
       "       -78.62306063, -78.62306062, -78.62306061, -78.62306061,\n",
       "       -78.62306061, -78.6230606 , -78.59962345, -78.60622186,\n",
       "       -78.61105467, -78.61456542, -78.61709756, -78.61891134,\n",
       "       -78.62020155, -78.62111282, -78.62175171, -78.62219623,\n",
       "       -78.62250308, -78.62271306, -78.62285533, -78.62295056,\n",
       "       -78.62301331, -78.62305375, -78.62307897, -78.62309388,\n",
       "       -78.62310188, -78.62310532, -78.62310582, -78.62310449,\n",
       "       -78.62310208, -78.6230991 , -78.62309589, -78.62309266,\n",
       "       -78.62308954, -78.62308662, -78.62308393, -78.62308149,\n",
       "       -78.62307928, -78.62307731, -78.62307555, -78.62307399,\n",
       "       -78.62307259, -78.62307134, -78.62307025, -78.62306927,\n",
       "       -78.62306841, -78.62306764, -78.62306696, -78.62306635,\n",
       "       -78.62306581, -78.62306533, -78.62306489, -78.6230645 ,\n",
       "       -78.62306415, -78.62306385, -78.62306356, -78.6230633 ,\n",
       "       -78.62306307, -78.62306286, -78.62306267, -78.6230625 ,\n",
       "       -78.62306236, -78.62306222, -78.62306209, -78.62306197,\n",
       "       -78.62306187, -78.62306177, -78.62306169, -78.62306161,\n",
       "       -78.62306153, -78.62306146, -78.6230614 , -78.62306135,\n",
       "       -78.62306129, -78.62306125, -78.6230612 , -78.62306116,\n",
       "       -78.62306112, -78.62306097, -78.62306087, -78.6230608 ,\n",
       "       -78.62306074, -78.62306071, -78.62306068, -78.62306066,\n",
       "       -78.62306064, -78.62306063, -78.62306062, -78.62306061,\n",
       "       -78.6230606 , -78.62306059, -78.62306059, -78.62306059,\n",
       "       -78.62306059])"
      ]
     },
     "execution_count": 24,
     "metadata": {},
     "output_type": "execute_result"
    }
   ],
   "source": [
    "data = np.array(list(ecp.items()))\n",
    "arr = data[:,1]\n",
    "reversed_arr = arr[::-1]\n",
    "reversed_arr"
   ]
  },
  {
   "cell_type": "code",
   "execution_count": 26,
   "id": "f240470a-cfc9-434c-a87e-55e27bb0ec67",
   "metadata": {},
   "outputs": [
    {
     "data": {
      "text/plain": [
       "array([[  2.        ,   0.        , -78.56108373],\n",
       "       [  2.1       ,   0.        , -78.57610346],\n",
       "       [  2.2       ,   0.        , -78.58826363],\n",
       "       ...,\n",
       "       [ 18.        ,  90.        , -78.62306059],\n",
       "       [ 19.        ,  90.        , -78.62306059],\n",
       "       [ 20.        ,  90.        , -78.62306059]])"
      ]
     },
     "execution_count": 26,
     "metadata": {},
     "output_type": "execute_result"
    }
   ],
   "source": [
    "final_data = np.c_[ A, reversed_arr ]\n",
    "np.savetxt(out_data + \"2D_PES_psi4.dat\", final_data, delimiter=\",\",fmt='%.2f,%d,%.14f')\n",
    "final_data"
   ]
  },
  {
   "cell_type": "code",
   "execution_count": 28,
   "id": "c1dc01fe-f0fa-4127-ad06-255cfc44c21d",
   "metadata": {},
   "outputs": [
    {
     "data": {
      "text/plain": [
       "array([[ 2.00000000e+00,  0.00000000e+00,  1.36023445e+04],\n",
       "       [ 2.10000000e+00,  0.00000000e+00,  1.03058957e+04],\n",
       "       [ 2.20000000e+00,  0.00000000e+00,  7.63704637e+03],\n",
       "       ...,\n",
       "       [ 1.80000000e+01,  9.00000000e+01, -1.81438277e-03],\n",
       "       [ 1.90000000e+01,  9.00000000e+01, -1.31083599e-03],\n",
       "       [ 2.00000000e+01,  9.00000000e+01, -9.63076223e-04]])"
      ]
     },
     "execution_count": 28,
     "metadata": {},
     "output_type": "execute_result"
    }
   ],
   "source": [
    "reversed_arr_cm = (reversed_arr-ecp_inf)*219474.6\n",
    "final_data_cm = np.c_[ A, reversed_arr_cm ]\n",
    "np.savetxt(out_data + \"2D_PES_psi4_cm.dat\", final_data_cm, delimiter=\",\",fmt='%.2f,%d,%.4f')\n",
    "final_data_cm"
   ]
  },
  {
   "cell_type": "markdown",
   "id": "59fef1a9-e88b-4713-a0fe-6c4aa367cd43",
   "metadata": {},
   "source": [
    "### Plots of 7 angles! 1D and 2D "
   ]
  },
  {
   "cell_type": "code",
   "execution_count": null,
   "id": "3943f3e2-819c-41a0-87d4-d09ba8462d77",
   "metadata": {},
   "outputs": [],
   "source": []
  }
 ],
 "metadata": {
  "kernelspec": {
   "display_name": "PES2MP_Q (1_PES)",
   "language": "python",
   "name": "pes2mp_1_pes_quick"
  },
  "language_info": {
   "codemirror_mode": {
    "name": "ipython",
    "version": 3
   },
   "file_extension": ".py",
   "mimetype": "text/x-python",
   "name": "python",
   "nbconvert_exporter": "python",
   "pygments_lexer": "ipython3",
   "version": "3.11.5"
  }
 },
 "nbformat": 4,
 "nbformat_minor": 5
}
